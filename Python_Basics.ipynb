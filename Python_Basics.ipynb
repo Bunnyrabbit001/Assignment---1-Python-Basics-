{
  "nbformat": 4,
  "nbformat_minor": 0,
  "metadata": {
    "colab": {
      "provenance": []
    },
    "kernelspec": {
      "name": "python3",
      "display_name": "Python 3"
    },
    "language_info": {
      "name": "python"
    }
  },
  "cells": [
    {
      "cell_type": "markdown",
      "source": [
        "\n",
        "# Assignment - 1 (Python Basics)"
      ],
      "metadata": {
        "id": "KWXQSx04lX-S"
      }
    },
    {
      "cell_type": "markdown",
      "source": [
        "Q1. What is Python, and why is it popular ?\n",
        "   \n",
        "  What is Python?\n",
        "  \n",
        "  Python is one of the most popular programming languages out there, and for good reason. It’s super easy to learn, even if you’re a beginner, and its code is clean and readable—almost like writing in plain English. That’s why both newbies and experienced developers love working with it.\n",
        "  \n",
        "  #Why is Python Popular?\n",
        "  \n",
        "  Python’s popularity comes from several key factors:\n",
        "\n",
        "\n",
        "1. Easy to Learn & Use\n",
        "\n",
        "   Python’s syntax is simple and similar to English, making it beginner-friendly.Requires fewer lines of code compared to other languages like Java or C++.\n",
        "   \n",
        "2. Versatility\n",
        "\n",
        "   Used in web development, data science, AI/ML, automation, cybersecurity, game development, and more.\n",
        "   \n",
        "3. Large Community & Support\n",
        "\n",
        "   One of the largest developer communities with extensive documentation, tutorials, and forums.\n",
        "   \n",
        "4. Rich Libraries & Frameworks\n",
        "\n",
        "  Offers vast libraries like NumPy, Pandas, TensorFlow, Django, Flask, PyTorch, etc., making development faster and easier.\n",
        "  \n",
        "5. Strong in AI & Data Science\n",
        "\n",
        "  The go-to language for AI, machine learning, and big data due to powerful frameworks.\n",
        "\n",
        "6. Automation & Scripting\n",
        "\n",
        "  Used for writing scripts to automate repetitive tasks, making it popular among DevOps engineers.\n",
        "\n",
        "7. Industry Adoption\n",
        "\n",
        "  Companies like Google, Facebook, Netflix, and NASA use Python for various applications."
      ],
      "metadata": {
        "id": "Rslt6GrUltRc"
      }
    },
    {
      "cell_type": "markdown",
      "source": [
        "Q2. What is an Interpreter in Python?\n",
        "\n",
        "\n",
        "An interpreter in Python is a program that executes Python code line by line instead of compiling it all at once like a compiler does. This allows for easier debugging and testing but can sometimes make execution slower compared to compiled languages like C or Java.\n",
        "\n",
        "How Python’s Interpreter Works\n",
        "\n",
        "1. Reads the Code: The interpreter takes the Python script (.py file) and reads it.\n",
        "\n",
        "2. Translates to Bytecode: The code is converted into an intermediate form called bytecode (.pyc files in older versions).\n",
        "\n",
        "3. Runs in PVM (Python Virtual Machine): The bytecode is executed by the Python Virtual Machine, which converts it into machine code that the computer can understand.\n"
      ],
      "metadata": {
        "id": "xnSRuq5ap2eJ"
      }
    },
    {
      "cell_type": "markdown",
      "source": [
        "Q3. What are pre-defined keywords in Python\n",
        "\n",
        "Pre-defined keywords in Python are reserved words that have a special meaning in the language. These keywords cannot be used as variable names, function names, or identifiers because they are part of Python's syntax.\n",
        "\n",
        "Keywords\n",
        "\n",
        "1. False - Boolean false value\n",
        "2. True\t- Boolean true value\n",
        "3. None\t- Represents \"nothing\" or absence of a value\n",
        "4. And - Logical AND operator\n",
        "5. or\t- Logical OR operator\n",
        "6. not - Logical NOT operator\n",
        "7. if -\tConditional statement\n",
        "8. elif - Else-if condition\n",
        "9. else - Alternative branch for if statements\n",
        "10. for -\tLooping (iteration)\n",
        "11. is - Checks if two objects are the same (identity operator)\n",
        "12. in - \tChecks if a value is in a sequence\n",
        "13. case - Used within match statements"
      ],
      "metadata": {
        "id": "nGEGWIhMrLnS"
      }
    },
    {
      "cell_type": "code",
      "execution_count": null,
      "metadata": {
        "colab": {
          "base_uri": "https://localhost:8080/"
        },
        "id": "YG25glG4lRM9",
        "outputId": "3eb98d61-322c-4df5-e766-bffa661a9534"
      },
      "outputs": [
        {
          "output_type": "stream",
          "name": "stdout",
          "text": [
            "\n",
            "Here is a list of the Python keywords.  Enter any keyword to get more help.\n",
            "\n",
            "False               class               from                or\n",
            "None                continue            global              pass\n",
            "True                def                 if                  raise\n",
            "and                 del                 import              return\n",
            "as                  elif                in                  try\n",
            "assert              else                is                  while\n",
            "async               except              lambda              with\n",
            "await               finally             nonlocal            yield\n",
            "break               for                 not                 \n",
            "\n"
          ]
        }
      ],
      "source": [
        "help('keywords')"
      ]
    },
    {
      "cell_type": "markdown",
      "source": [
        "Q4 Can keywords be used as variable names\n",
        "\n",
        "  No, keywords cannot be used as variable names in Python because they are reserved words that have special meanings in the language. Trying to use a keyword as a variable name will result in a SyntaxError.\n"
      ],
      "metadata": {
        "id": "y--d2Fvpw6E9"
      }
    },
    {
      "cell_type": "code",
      "source": [
        "#xample of Invalid Variable Name (Using a Keyword)\n",
        "and = 13\n",
        "print(and)"
      ],
      "metadata": {
        "colab": {
          "base_uri": "https://localhost:8080/",
          "height": 106
        },
        "id": "vNR1v_Minyoe",
        "outputId": "43341f3e-b269-436d-d74c-6108573cb01b"
      },
      "execution_count": null,
      "outputs": [
        {
          "output_type": "error",
          "ename": "SyntaxError",
          "evalue": "invalid syntax (<ipython-input-10-cdfb832428ce>, line 2)",
          "traceback": [
            "\u001b[0;36m  File \u001b[0;32m\"<ipython-input-10-cdfb832428ce>\"\u001b[0;36m, line \u001b[0;32m2\u001b[0m\n\u001b[0;31m    and = 13\u001b[0m\n\u001b[0m    ^\u001b[0m\n\u001b[0;31mSyntaxError\u001b[0m\u001b[0;31m:\u001b[0m invalid syntax\n"
          ]
        }
      ]
    },
    {
      "cell_type": "code",
      "source": [
        "#Example of a Valid Variable Name\n",
        "int = 13\n",
        "print(int)"
      ],
      "metadata": {
        "colab": {
          "base_uri": "https://localhost:8080/"
        },
        "id": "dwZwvTmfyK5K",
        "outputId": "3cc2ba62-b28e-4d4d-ff95-6cfb5a18e025"
      },
      "execution_count": null,
      "outputs": [
        {
          "output_type": "stream",
          "name": "stdout",
          "text": [
            "13\n"
          ]
        }
      ]
    },
    {
      "cell_type": "markdown",
      "source": [
        "Q5 What is mutability in Python\n",
        "\n",
        "Mutability in Python refers to whether an object’s value can be changed after it has been created.\n",
        "\n",
        "  **Mutable objects** → Can be modified in place after creation.\n",
        "  \n",
        "  **Immutable objects** → Cannot be modified after creation; any change creates a new object in memory."
      ],
      "metadata": {
        "id": "BLBSfvGDy2yf"
      }
    },
    {
      "cell_type": "code",
      "source": [
        "#Example Mutable Object Example (List)\n",
        "list_cont = [\"ayush\",\"lakshay\",1, 2, 9.5, True]\n",
        "print (list_cont)"
      ],
      "metadata": {
        "colab": {
          "base_uri": "https://localhost:8080/"
        },
        "id": "OoCpgDoqyjmM",
        "outputId": "e2884ed9-810b-4239-e658-f976195a7d85"
      },
      "execution_count": null,
      "outputs": [
        {
          "output_type": "stream",
          "name": "stdout",
          "text": [
            "['ayush', 'lakshay', 1, 2, 9.5, True]\n"
          ]
        }
      ]
    },
    {
      "cell_type": "code",
      "source": [
        "list_cont[4] = 84\n",
        "print (list_cont)"
      ],
      "metadata": {
        "colab": {
          "base_uri": "https://localhost:8080/"
        },
        "id": "aAltn_oZ0H34",
        "outputId": "8f283319-0cf4-4642-ee59-20f39ac6c0dc"
      },
      "execution_count": null,
      "outputs": [
        {
          "output_type": "stream",
          "name": "stdout",
          "text": [
            "['ayush', 'lakshay', 1, 84, 84, True]\n"
          ]
        }
      ]
    },
    {
      "cell_type": "markdown",
      "source": [
        "Q6. Why are lists mutable, but tuples are immutable\n",
        "\n",
        " The key difference between lists and tuples in Python comes down to how they are stored in memory and how Python handles changes.\n",
        "\n",
        "**Lists Are Mutable Because**\n",
        "\n",
        "1. Stored as dynamic arrays: Lists allocate extra memory to allow modifications.\n",
        "\n",
        "2. Support in-place modifications: Items can be added, removed, or changed without creating a new object.\n",
        "\n",
        "3. Flexible for dynamic data: Lists are useful when frequent modifications are needed.\n",
        "\n",
        "**Tuples Are Immutable Because**\n",
        "\n",
        "1. Stored in a fixed structure: Python optimizes tuples for speed and memory efficiency.\n",
        "2. No extra space allocated: Once created, the size and values cannot change.\n",
        "3. Designed for data integrity: Useful for fixed collections where changes should be prevented."
      ],
      "metadata": {
        "id": "xWmvpegV0wRD"
      }
    },
    {
      "cell_type": "code",
      "source": [
        "#Example: Modifying a List in Place\n",
        "number = [10,20,30,40]\n",
        "number[0] = 100\n",
        "print(number)\n",
        "#The same list object in memory is modified."
      ],
      "metadata": {
        "colab": {
          "base_uri": "https://localhost:8080/"
        },
        "id": "TlKEHVMi0STr",
        "outputId": "1977edd4-9307-483b-94fb-d633aac5511b"
      },
      "execution_count": null,
      "outputs": [
        {
          "output_type": "stream",
          "name": "stdout",
          "text": [
            "[100, 20, 30, 40]\n"
          ]
        }
      ]
    },
    {
      "cell_type": "code",
      "source": [
        " #Example: Trying to Modify a Tuple\n",
        " numbers = (10, 20, 30, 40)\n",
        "numbers[0] = 100\n",
        "print(numbers)"
      ],
      "metadata": {
        "colab": {
          "base_uri": "https://localhost:8080/",
          "height": 193
        },
        "id": "TXrS4A4M2XE6",
        "outputId": "25d21505-63d0-4f3c-c816-2ed3be936e92"
      },
      "execution_count": null,
      "outputs": [
        {
          "output_type": "error",
          "ename": "TypeError",
          "evalue": "'tuple' object does not support item assignment",
          "traceback": [
            "\u001b[0;31m---------------------------------------------------------------------------\u001b[0m",
            "\u001b[0;31mTypeError\u001b[0m                                 Traceback (most recent call last)",
            "\u001b[0;32m<ipython-input-16-9977404963e0>\u001b[0m in \u001b[0;36m<cell line: 0>\u001b[0;34m()\u001b[0m\n\u001b[1;32m      1\u001b[0m \u001b[0;31m#Example: Trying to Modify a Tuple\u001b[0m\u001b[0;34m\u001b[0m\u001b[0;34m\u001b[0m\u001b[0m\n\u001b[1;32m      2\u001b[0m \u001b[0mnumbers\u001b[0m \u001b[0;34m=\u001b[0m \u001b[0;34m(\u001b[0m\u001b[0;36m10\u001b[0m\u001b[0;34m,\u001b[0m \u001b[0;36m20\u001b[0m\u001b[0;34m,\u001b[0m \u001b[0;36m30\u001b[0m\u001b[0;34m,\u001b[0m \u001b[0;36m40\u001b[0m\u001b[0;34m)\u001b[0m\u001b[0;34m\u001b[0m\u001b[0;34m\u001b[0m\u001b[0m\n\u001b[0;32m----> 3\u001b[0;31m \u001b[0mnumbers\u001b[0m\u001b[0;34m[\u001b[0m\u001b[0;36m0\u001b[0m\u001b[0;34m]\u001b[0m \u001b[0;34m=\u001b[0m \u001b[0;36m100\u001b[0m\u001b[0;34m\u001b[0m\u001b[0;34m\u001b[0m\u001b[0m\n\u001b[0m\u001b[1;32m      4\u001b[0m \u001b[0mprint\u001b[0m\u001b[0;34m(\u001b[0m\u001b[0mnumbers\u001b[0m\u001b[0;34m)\u001b[0m\u001b[0;34m\u001b[0m\u001b[0;34m\u001b[0m\u001b[0m\n",
            "\u001b[0;31mTypeError\u001b[0m: 'tuple' object does not support item assignment"
          ]
        }
      ]
    },
    {
      "cell_type": "markdown",
      "source": [
        "Q7What is the difference between “==” and “is” operators in Python\n",
        "\n",
        "Difference Between == and is Operators in Python\n",
        "Python provides two different operators to compare values:\n",
        "\n",
        "\n",
        "== → Checks if values are equal\n",
        "\n",
        "is → Checks if objects are the same in memory\n",
        "\n",
        "\n",
        "**1. == (Equality Operator)**\n",
        "\n",
        "-- Compares values of two objects.\n",
        "\n",
        "-- Returns True if the values are the same, even if stored in different memory locations.\n",
        "\n",
        "\n",
        " **2. is (Identity Operator)**\n",
        "\n",
        " -- Compares memory locations (object identity).\n",
        "\n",
        " -- Returns True only if both variables reference the same object in memory."
      ],
      "metadata": {
        "id": "KQQzFxj93Uls"
      }
    },
    {
      "cell_type": "code",
      "source": [
        "#Example: == Compares Values\n",
        "a = [1, 2, 3]\n",
        "b = [1, 2, 3]\n",
        "\n",
        "print(a == b)"
      ],
      "metadata": {
        "colab": {
          "base_uri": "https://localhost:8080/"
        },
        "id": "hNaXhiQ53Sn3",
        "outputId": "464087a4-f3bd-4911-e89f-9b629499af41"
      },
      "execution_count": null,
      "outputs": [
        {
          "output_type": "stream",
          "name": "stdout",
          "text": [
            "True\n"
          ]
        }
      ]
    },
    {
      "cell_type": "code",
      "source": [
        "#Example: == Compares Values\n",
        "a = [1, 2, 3]\n",
        "b = [1, 2, 3]\n",
        "\n",
        "print(a is b)"
      ],
      "metadata": {
        "colab": {
          "base_uri": "https://localhost:8080/"
        },
        "id": "hziHsyM441d6",
        "outputId": "048dbd3a-e75b-48b7-9867-2b2d10b288cf"
      },
      "execution_count": null,
      "outputs": [
        {
          "output_type": "stream",
          "name": "stdout",
          "text": [
            "False\n"
          ]
        }
      ]
    },
    {
      "cell_type": "code",
      "source": [
        "#Example: is Compares Memory Addresses\n",
        "x = [1, 2, 3]\n",
        "y = x\n",
        "print(x is y)\n"
      ],
      "metadata": {
        "colab": {
          "base_uri": "https://localhost:8080/"
        },
        "id": "mHyn4okx4_Lm",
        "outputId": "6dc3711f-1b59-4cd3-eea0-e1a4e0018cd5"
      },
      "execution_count": null,
      "outputs": [
        {
          "output_type": "stream",
          "name": "stdout",
          "text": [
            "True\n"
          ]
        }
      ]
    },
    {
      "cell_type": "markdown",
      "source": [
        "Q8. What are logical operators in Python\n",
        "\n",
        "Logical operators in Python are used to perform boolean operations, allowing us to combine multiple conditions. These operators return either True or False.\n",
        "\n",
        "1. and -  Returns True if both conditions are True\n",
        "2. or - Returns True if at least one condition\n",
        "is True\n",
        "3. not - Reverses the boolean value (True → False, False → True)"
      ],
      "metadata": {
        "id": "cLtRePPQ5bSE"
      }
    },
    {
      "cell_type": "code",
      "source": [
        "#Example: and Operator (Both Conditions Must Be True)\n",
        "x = 14\n",
        "y = 4\n",
        "\n",
        "if x > 5 and y < 10:\n",
        "    print(\"Both conditions are true.\")\n",
        "else:\n",
        "    print(\"At least one condition is false.\")\n"
      ],
      "metadata": {
        "colab": {
          "base_uri": "https://localhost:8080/"
        },
        "id": "sqpz8J9O5O5E",
        "outputId": "e1d7f6a5-09c0-4a03-c3c1-43ff3912d1f8"
      },
      "execution_count": null,
      "outputs": [
        {
          "output_type": "stream",
          "name": "stdout",
          "text": [
            "Both conditions are true.\n"
          ]
        }
      ]
    },
    {
      "cell_type": "code",
      "source": [
        "#Example: and Operator (At Least One Condition Must Be True)\n",
        "a = 4\n",
        "b = 17\n",
        "\n",
        "if a > 10 or b > 10:\n",
        "    print(\"At least one condition is True\")\n"
      ],
      "metadata": {
        "colab": {
          "base_uri": "https://localhost:8080/"
        },
        "id": "9V1uSqQ36uWu",
        "outputId": "a34384c5-9d6d-4c3e-d17b-92c0166402fd"
      },
      "execution_count": null,
      "outputs": [
        {
          "output_type": "stream",
          "name": "stdout",
          "text": [
            "At least one condition is True\n"
          ]
        }
      ]
    },
    {
      "cell_type": "code",
      "source": [
        "#example : not Operator (Reverses the Boolean Value)\n",
        "logged_in = False\n",
        "\n",
        "if not logged_in:\n",
        "    print(\"User is not logged in\")"
      ],
      "metadata": {
        "colab": {
          "base_uri": "https://localhost:8080/"
        },
        "id": "_FWcooYk6uOa",
        "outputId": "89a58104-d6c6-409a-b400-f1355dc85dc0"
      },
      "execution_count": null,
      "outputs": [
        {
          "output_type": "stream",
          "name": "stdout",
          "text": [
            "User is not logged in\n"
          ]
        }
      ]
    },
    {
      "cell_type": "markdown",
      "source": [
        "Q9. What is type casting in Python\n",
        "\n",
        "  Type casting (also called type conversion) in Python is the process of converting one data type into another. It can be done explicitly (manually by the programmer) or implicitly (automatically by Python)."
      ],
      "metadata": {
        "id": "J5tjtf6g7yNx"
      }
    },
    {
      "cell_type": "markdown",
      "source": [
        "Q10. What is the difference between implicit and explicit type casting\n",
        "\n",
        "**Explicit Type Casting**\n",
        "\n",
        "-- Done using built-in functions.\n",
        "\n",
        "-- The programmer controls the conversion.\n",
        "\n",
        "-- May cause data loss or errors if not done properly.\n",
        "\n",
        "**Implicit Type Casting**\n",
        "\n",
        "-- Python automatically converts one type to another when needed.\n",
        "\n",
        "--No data loss occurs.\n",
        "\n",
        "--Happens when combining different data types in expressions."
      ],
      "metadata": {
        "id": "3HGcY2nV8BMR"
      }
    },
    {
      "cell_type": "markdown",
      "source": [
        "Q11. Purpose of Conditional Statements in Python.\n",
        "\n",
        " Conditional statements in Python allow a program to make decisions and execute different code based on whether a condition is True or False. They help control the flow of a program.\n",
        "\n",
        "**Purpose of Conditional Statements**\n",
        "\n",
        "Decision Making → Runs different code based on conditions.\n",
        "\n",
        "Flow Control → Executes specific blocks only when conditions are met.\n",
        "\n",
        "Improves Code Efficiency → Prevents unnecessary computations."
      ],
      "metadata": {
        "id": "n0oRR--L9b85"
      }
    },
    {
      "cell_type": "markdown",
      "source": [
        " Q12. How does the elif statement work.\n",
        "\n",
        " The elif statement (short for \"else if\") allows a program to check multiple conditions in sequence. It is used after an if statement and before an else statement.\n",
        "\n",
        "How elif Works ->\n",
        "\n",
        "-- The program checks conditions from top to bottom.\n",
        "\n",
        "-- If the if condition is True, the elif and else blocks are skipped.\n",
        "\n",
        "-- If the if condition is False, Python checks the first elif condition.\n",
        "\n",
        "-- If an elif condition is True, its block runs, and the rest are ignored.\n",
        "\n",
        "-- If no conditions are True, the else block (if present) executes."
      ],
      "metadata": {
        "id": "qU9Wkj0u-IAg"
      }
    },
    {
      "cell_type": "code",
      "source": [
        "#Example:: Age Group Classifier\n",
        "age = 18\n",
        "\n",
        "if age < 13:\n",
        "    print(\"Child\")\n",
        "elif age >= 13 and age < 18:\n",
        "    print(\"Teenager\")\n",
        "else:\n",
        "    print(\"Adult\")"
      ],
      "metadata": {
        "colab": {
          "base_uri": "https://localhost:8080/"
        },
        "id": "zh745a2R-BVB",
        "outputId": "6092f736-4329-4517-c233-135b248c68f5"
      },
      "execution_count": null,
      "outputs": [
        {
          "output_type": "stream",
          "name": "stdout",
          "text": [
            "Adult\n"
          ]
        }
      ]
    },
    {
      "cell_type": "markdown",
      "source": [
        "Q13. What is the difference between for and while loops\n",
        "\n",
        "**for Loop**\n",
        "\n",
        "-- Used when the number of iterations is known\n",
        "\n",
        "-- Iterates over a sequence (like a list, tuple, range)\n",
        "\n",
        "-- Uses a loop variable that changes automatically\n",
        "\n",
        "-- Iterating over lists, strings, tuples, ranges, etc\n",
        "\n",
        "**while Loop**\n",
        "\n",
        "-- Used when the number of iterations is unknown based on a condition\n",
        "\n",
        "-- Runs until a condition becomes False\n",
        "\n",
        "-- Requires manual updating of the loop variable\n",
        "\n",
        "-- Running loops based on a condition, like user input\n",
        "\n"
      ],
      "metadata": {
        "id": "oHh53jfyAtci"
      }
    },
    {
      "cell_type": "code",
      "source": [
        "#Example: for Loop\n",
        "fruits = [\"apple\", \"banana\", \"cherry\"]\n",
        "\n",
        "for fruit in fruits:\n",
        "    print(fruit)"
      ],
      "metadata": {
        "colab": {
          "base_uri": "https://localhost:8080/"
        },
        "id": "MyvrvPN_BXbn",
        "outputId": "bf1d9bbf-db45-43ea-e48d-dff9026ee681"
      },
      "execution_count": null,
      "outputs": [
        {
          "output_type": "stream",
          "name": "stdout",
          "text": [
            "apple\n",
            "banana\n",
            "cherry\n"
          ]
        }
      ]
    },
    {
      "cell_type": "code",
      "source": [
        "for d in range(1,10):\n",
        "    print(d)"
      ],
      "metadata": {
        "colab": {
          "base_uri": "https://localhost:8080/"
        },
        "id": "XIrRE7wBBWjJ",
        "outputId": "2a23a65f-fa5a-4af4-f283-8c6c29ceeb87"
      },
      "execution_count": null,
      "outputs": [
        {
          "output_type": "stream",
          "name": "stdout",
          "text": [
            "1\n",
            "2\n",
            "3\n",
            "4\n",
            "5\n",
            "6\n",
            "7\n",
            "8\n",
            "9\n"
          ]
        }
      ]
    },
    {
      "cell_type": "code",
      "source": [
        "# Example: while Loop\n",
        "\n",
        "count = 1\n",
        "\n",
        "while count <= 10:\n",
        "    print(count)\n",
        "    count += 1\n",
        "#"
      ],
      "metadata": {
        "colab": {
          "base_uri": "https://localhost:8080/"
        },
        "id": "4ebmgXGV_EIs",
        "outputId": "8fc16d57-3f46-4eda-d65e-8960a227b916"
      },
      "execution_count": null,
      "outputs": [
        {
          "output_type": "stream",
          "name": "stdout",
          "text": [
            "1\n",
            "2\n",
            "3\n",
            "4\n",
            "5\n",
            "6\n",
            "7\n",
            "8\n",
            "9\n",
            "10\n"
          ]
        }
      ]
    },
    {
      "cell_type": "markdown",
      "source": [
        "Q14. Describe a scenario where a while loop is more suitable than a for loop.\n",
        "\n",
        "Scenario Where a while Loop is More Suitable Than a for Loop\n",
        "\n",
        "**Scenario: User Login System**\n",
        "\n",
        "Imagine a program that asks a user to enter a password and keeps asking until they enter the correct one. Since we don't know how many attempts the user will take, a while loop is better than a for loop."
      ],
      "metadata": {
        "id": "ahCK3GhwCOZI"
      }
    },
    {
      "cell_type": "code",
      "source": [
        "#Example: Using while for a Login System\n",
        "correct_password = \"ayush1212\"\n",
        "entered_password = \"\"\n",
        "\n",
        "while entered_password != correct_password:\n",
        "    entered_password = input(\"Enter the password: \")\n",
        "\n",
        "    print(\"Access Granted!\")"
      ],
      "metadata": {
        "id": "-5ODKrUTCFc3",
        "colab": {
          "base_uri": "https://localhost:8080/"
        },
        "outputId": "ef28903a-9e93-4dcf-e210-1d62122e6a4d"
      },
      "execution_count": null,
      "outputs": [
        {
          "output_type": "stream",
          "name": "stdout",
          "text": [
            "Enter the password: ayush1212\n",
            "Access Granted!\n"
          ]
        }
      ]
    },
    {
      "cell_type": "markdown",
      "source": [
        "#Assignment - 1 (Practical Questions)"
      ],
      "metadata": {
        "id": "uBVnQy3_DtAk"
      }
    },
    {
      "cell_type": "code",
      "source": [
        "# Q1. Write a Python program to print \"Hello, World!_\n",
        "\n",
        "print(\"Hello, World!!\")"
      ],
      "metadata": {
        "id": "RWBxsje1C3dI",
        "colab": {
          "base_uri": "https://localhost:8080/"
        },
        "outputId": "5f6e4aa6-2c67-4d17-f378-616179bb87e1"
      },
      "execution_count": null,
      "outputs": [
        {
          "output_type": "stream",
          "name": "stdout",
          "text": [
            "Hello, World!!\n"
          ]
        }
      ]
    },
    {
      "cell_type": "code",
      "source": [
        "# Q2. Write a Python program that displays your name and age\n",
        "\n",
        "name = \"Deepanshu Aggarwal\"\n",
        "age = 21\n",
        "\n",
        "# Print the output\n",
        "print(\"My name is\", name)\n",
        "print(\"I am\", age, \"years old\")"
      ],
      "metadata": {
        "id": "q0q2tGbCEMR6",
        "colab": {
          "base_uri": "https://localhost:8080/"
        },
        "outputId": "961e5219-636d-4f3d-8e6e-b68ec4f0dd76"
      },
      "execution_count": null,
      "outputs": [
        {
          "output_type": "stream",
          "name": "stdout",
          "text": [
            "My name is Deepanshu Aggarwal\n",
            "I am 21 years old\n"
          ]
        }
      ]
    },
    {
      "cell_type": "code",
      "source": [
        "#Q3. Write code to print all the pre-defined keywords in Python using the keyword library\n",
        "\n",
        "help('keywords')"
      ],
      "metadata": {
        "colab": {
          "base_uri": "https://localhost:8080/"
        },
        "id": "XGoynwj0FQES",
        "outputId": "fb88db5a-3aac-4259-9f63-d58daed84127"
      },
      "execution_count": null,
      "outputs": [
        {
          "output_type": "stream",
          "name": "stdout",
          "text": [
            "\n",
            "Here is a list of the Python keywords.  Enter any keyword to get more help.\n",
            "\n",
            "False               class               from                or\n",
            "None                continue            global              pass\n",
            "True                def                 if                  raise\n",
            "and                 del                 import              return\n",
            "as                  elif                in                  try\n",
            "assert              else                is                  while\n",
            "async               except              lambda              with\n",
            "await               finally             nonlocal            yield\n",
            "break               for                 not                 \n",
            "\n"
          ]
        }
      ]
    },
    {
      "cell_type": "code",
      "source": [
        "#Q4. Write a program that checks if a given word is a Python keyword0\n",
        "\n",
        "import keyword\n",
        "\n",
        "word = \"if\"\n",
        "\n",
        "if keyword.iskeyword(word):\n",
        "    print(f\"'{word}' is a Python keyword.\")\n",
        "else:\n",
        "    print(f\"'{word}' is not a Python keyword.\")\n"
      ],
      "metadata": {
        "colab": {
          "base_uri": "https://localhost:8080/"
        },
        "id": "1_Ep0B32Fe9C",
        "outputId": "c9c1b04a-2148-43d7-f443-24c2271d900c"
      },
      "execution_count": null,
      "outputs": [
        {
          "output_type": "stream",
          "name": "stdout",
          "text": [
            "'if' is a Python keyword.\n"
          ]
        }
      ]
    },
    {
      "cell_type": "code",
      "source": [
        "#Q5. Create a list and tuple in Python, and demonstrate how attempting to change an element works differently for each\n",
        "\n",
        "# Creating a list (Mutable)\n",
        "my_list = [10, 20, 30]\n",
        "print(\"Original List:\", my_list)\n",
        "\n",
        "# Modifying an element in the list\n",
        "my_list[1] = 25  # Changing 20 to 25\n",
        "print(\"Modified List:\", my_list)  # ✅ Works fine\n",
        "\n",
        "print(\"\\n---------------------\\n\")\n",
        "\n",
        "# Creating a tuple (Immutable)\n",
        "my_tuple = (10, 20, 30)\n",
        "print(\"Original Tuple:\", my_tuple)\n",
        "\n",
        "# Attempting to modify an element in the tuple\n",
        "try:\n",
        "    my_tuple[1] = 25  # ❌ This will raise an error\n",
        "except TypeError as e:\n",
        "    print(\"Error:\", e)\n"
      ],
      "metadata": {
        "colab": {
          "base_uri": "https://localhost:8080/"
        },
        "id": "K4qVJv0WFvkY",
        "outputId": "051d4bb0-0f13-4287-cc0a-63695591eabb"
      },
      "execution_count": null,
      "outputs": [
        {
          "output_type": "stream",
          "name": "stdout",
          "text": [
            "Original List: [10, 20, 30]\n",
            "Modified List: [10, 25, 30]\n",
            "\n",
            "---------------------\n",
            "\n",
            "Original Tuple: (10, 20, 30)\n",
            "Error: 'tuple' object does not support item assignment\n"
          ]
        }
      ]
    },
    {
      "cell_type": "code",
      "source": [
        "#Q6. Write a function to demonstrate the behavior of mutable and immutable arguments\n",
        "\n",
        "\n",
        "def modify_data(immutable_var, mutable_var):\n",
        "    # Attempt to modify immutable variable (integer)\n",
        "    immutable_var += 10\n",
        "    print(\"Inside function (immutable_var):\", immutable_var)  # Change is local\n",
        "\n",
        "    # Modify mutable variable (list)\n",
        "    mutable_var.append(4)\n",
        "    print(\"Inside function (mutable_var):\", mutable_var)  # Change affects original list\n",
        "\n",
        "# Immutable argument (integer)\n",
        "num = 5\n",
        "\n",
        "# Mutable argument (list)\n",
        "numbers = [1, 2, 3]\n",
        "\n",
        "print(\"Before function call (num):\", num)\n",
        "print(\"Before function call (numbers):\", numbers)\n",
        "\n",
        "modify_data(num, numbers)\n",
        "\n",
        "print(\"After function call (num):\", num)  # ✅ No change (Immutable)\n",
        "print(\"After function call (numbers):\", numbers)  # ❌ Changed (Mutable)\n"
      ],
      "metadata": {
        "colab": {
          "base_uri": "https://localhost:8080/"
        },
        "id": "BzArjch9GXW8",
        "outputId": "cf5cf9cf-8277-47e7-a4be-8d815407c98e"
      },
      "execution_count": null,
      "outputs": [
        {
          "output_type": "stream",
          "name": "stdout",
          "text": [
            "Before function call (num): 5\n",
            "Before function call (numbers): [1, 2, 3]\n",
            "Inside function (immutable_var): 15\n",
            "Inside function (mutable_var): [1, 2, 3, 4]\n",
            "After function call (num): 5\n",
            "After function call (numbers): [1, 2, 3, 4]\n"
          ]
        }
      ]
    },
    {
      "cell_type": "code",
      "source": [
        "#Q8. Write a program to demonstrate the use of logical operators.\n",
        "\n",
        "# Demonstration of Logical Operators\n",
        "\n",
        "# Using 'and' (Both conditions must be True)\n",
        "age = 25\n",
        "has_license = True\n",
        "can_drive = age >= 18 and has_license\n",
        "print(\"Can drive:\", can_drive)  # True (Both conditions are True)\n",
        "\n",
        "# Using 'or' (At least one condition must be True)\n",
        "is_raining = False\n",
        "has_umbrella = True\n",
        "can_go_outside = is_raining or has_umbrella\n",
        "print(\"Can go outside:\", can_go_outside)  # True (One condition is True)\n",
        "\n",
        "# Using 'not' (Reverses the condition)\n",
        "is_night = False\n",
        "print(\"Is it daytime?\", not is_night)  # True (Negates False to True)\n"
      ],
      "metadata": {
        "colab": {
          "base_uri": "https://localhost:8080/"
        },
        "id": "shdWm89kIXoR",
        "outputId": "8f4526bd-2b78-4693-f9dd-c89deeae9c6b"
      },
      "execution_count": null,
      "outputs": [
        {
          "output_type": "stream",
          "name": "stdout",
          "text": [
            "Can drive: True\n",
            "Can go outside: True\n",
            "Is it daytime? True\n"
          ]
        }
      ]
    },
    {
      "cell_type": "code",
      "source": [
        "#Q9. Write a Python program to convert user input from string to integer, float, and boolean types.\n",
        "\n",
        "# Take input from the user\n",
        "user_input = input(\"Enter a value: \")\n",
        "\n",
        "# Convert to integer, handling errors\n",
        "if user_input.isdigit():\n",
        "    int_value = int(user_input)\n",
        "    print(\"Integer:\", int_value)\n",
        "else:\n",
        "    print(\"Cannot convert to Integer\")\n",
        "\n",
        "# Convert to float (handles both integers and decimals)\n",
        "try:\n",
        "    float_value = float(user_input)\n",
        "    print(\"Float:\", float_value)\n",
        "except ValueError:\n",
        "    print(\"Cannot convert to Float\")\n",
        "\n",
        "# Convert to boolean\n",
        "bool_value = bool(user_input.strip())  # Empty string -> False, anything else -> True\n",
        "print(\"Boolean:\", bool_value)\n"
      ],
      "metadata": {
        "colab": {
          "base_uri": "https://localhost:8080/",
          "height": 228
        },
        "id": "_6a7H3YTJmOT",
        "outputId": "76037eb5-8c02-4d5e-b72b-af08b7a148c7"
      },
      "execution_count": null,
      "outputs": [
        {
          "name": "stdout",
          "output_type": "stream",
          "text": [
            "Enter a value: 10\n"
          ]
        },
        {
          "output_type": "error",
          "ename": "TypeError",
          "evalue": "'int' object is not callable",
          "traceback": [
            "\u001b[0;31m---------------------------------------------------------------------------\u001b[0m",
            "\u001b[0;31mTypeError\u001b[0m                                 Traceback (most recent call last)",
            "\u001b[0;32m<ipython-input-71-2f5d2749c0a9>\u001b[0m in \u001b[0;36m<cell line: 0>\u001b[0;34m()\u001b[0m\n\u001b[1;32m      6\u001b[0m \u001b[0;31m# Convert to integer, handling errors\u001b[0m\u001b[0;34m\u001b[0m\u001b[0;34m\u001b[0m\u001b[0m\n\u001b[1;32m      7\u001b[0m \u001b[0;32mif\u001b[0m \u001b[0muser_input\u001b[0m\u001b[0;34m.\u001b[0m\u001b[0misdigit\u001b[0m\u001b[0;34m(\u001b[0m\u001b[0;34m)\u001b[0m\u001b[0;34m:\u001b[0m\u001b[0;34m\u001b[0m\u001b[0;34m\u001b[0m\u001b[0m\n\u001b[0;32m----> 8\u001b[0;31m     \u001b[0mint_value\u001b[0m \u001b[0;34m=\u001b[0m \u001b[0mint\u001b[0m\u001b[0;34m(\u001b[0m\u001b[0muser_input\u001b[0m\u001b[0;34m)\u001b[0m\u001b[0;34m\u001b[0m\u001b[0;34m\u001b[0m\u001b[0m\n\u001b[0m\u001b[1;32m      9\u001b[0m     \u001b[0mprint\u001b[0m\u001b[0;34m(\u001b[0m\u001b[0;34m\"Integer:\"\u001b[0m\u001b[0;34m,\u001b[0m \u001b[0mint_value\u001b[0m\u001b[0;34m)\u001b[0m\u001b[0;34m\u001b[0m\u001b[0;34m\u001b[0m\u001b[0m\n\u001b[1;32m     10\u001b[0m \u001b[0;32melse\u001b[0m\u001b[0;34m:\u001b[0m\u001b[0;34m\u001b[0m\u001b[0;34m\u001b[0m\u001b[0m\n",
            "\u001b[0;31mTypeError\u001b[0m: 'int' object is not callable"
          ]
        }
      ]
    },
    {
      "cell_type": "code",
      "source": [],
      "metadata": {
        "id": "Ypt6MStDKAWU"
      },
      "execution_count": null,
      "outputs": []
    },
    {
      "source": [
        "#Q9. Write a Python program to convert user input from string to integer, float, and boolean types.\n",
        "\n",
        "# Take input from the user\n",
        "user_input = input(\"Enter a value: \")\n",
        "\n",
        "if user_input.isdigit():\n",
        "\n",
        "    str_value = str(user_input)\n",
        "    print(\"string:\", str_value)\n",
        "else:\n",
        "    print(\"Cannot convert to Integer\")\n",
        "\n",
        "try:\n",
        "    float_value = float(user_input)\n",
        "    print(\"Float:\", float_value)\n",
        "except ValueError:\n",
        "    print(\"Cannot convert to Float\")\n",
        "\n",
        "# Convert to boolean\n",
        "bool_value = bool(user_input.strip())\n",
        "print(\"Boolean:\", bool_value)"
      ],
      "cell_type": "code",
      "metadata": {
        "id": "W7yimgOQKvya",
        "outputId": "b708454e-506d-40bb-980c-ee31b880d0b3",
        "colab": {
          "base_uri": "https://localhost:8080/"
        }
      },
      "execution_count": 79,
      "outputs": [
        {
          "output_type": "stream",
          "name": "stdout",
          "text": [
            "Enter a value: 10\n",
            "string: 10\n",
            "Float: 10.0\n",
            "Boolean: True\n"
          ]
        }
      ]
    },
    {
      "cell_type": "code",
      "source": [
        "#Q10. Write code to demonstrate type casting with list elements\n",
        "\n",
        "# Original list of integers\n",
        "int_list = [1, 0, 5, 10, 15]\n",
        "\n",
        "# Convert integers to float\n",
        "float_list = [float(num) for num in int_list]\n",
        "print(\"Float List:\", float_list)\n",
        "\n",
        "# Convert integers to string\n",
        "string_list = [str(num) for num in int_list]\n",
        "print(\"String List:\", string_list)\n",
        "\n",
        "# Convert integers to boolean\n",
        "bool_list = [bool(num) for num in int_list]\n",
        "print(\"Boolean List:\", bool_list)\n"
      ],
      "metadata": {
        "id": "HjEowBOyK0Gs",
        "colab": {
          "base_uri": "https://localhost:8080/"
        },
        "outputId": "e4c9b077-12c8-4068-9a4e-8330c972199f"
      },
      "execution_count": 80,
      "outputs": [
        {
          "output_type": "stream",
          "name": "stdout",
          "text": [
            "Float List: [1.0, 0.0, 5.0, 10.0, 15.0]\n",
            "String List: ['1', '0', '5', '10', '15']\n",
            "Boolean List: [True, False, True, True, True]\n"
          ]
        }
      ]
    },
    {
      "cell_type": "code",
      "source": [
        "#Q11. Write a program that checks if a number is positive, negative, or zero.\n",
        "\n",
        "# Take user input\n",
        "num = float(input(\"Enter a number: \"))\n",
        "\n",
        "# Check if the number is positive, negative, or zero\n",
        "if num > 0:\n",
        "    print(\"The number is Positive.\")\n",
        "elif num < 0:\n",
        "    print(\"The number is Negative.\")\n",
        "else:\n",
        "    print(\"The number is Zero.\")\n"
      ],
      "metadata": {
        "colab": {
          "base_uri": "https://localhost:8080/"
        },
        "id": "tcRf3ImPLwsD",
        "outputId": "d720dc0c-9592-4ac4-d066-e8430aea4419"
      },
      "execution_count": 82,
      "outputs": [
        {
          "output_type": "stream",
          "name": "stdout",
          "text": [
            "Enter a number: -11\n",
            "The number is Negative.\n"
          ]
        }
      ]
    },
    {
      "cell_type": "code",
      "source": [
        "#Q12. Write a for loop to print numbers from 1 to 10.\n",
        "\n",
        "for num in range(1, 11):\n",
        "    print(num)\n",
        "\n"
      ],
      "metadata": {
        "colab": {
          "base_uri": "https://localhost:8080/"
        },
        "id": "eR28cErhMyMV",
        "outputId": "7496fd09-8cd1-4b06-de1b-2582e27293c2"
      },
      "execution_count": 84,
      "outputs": [
        {
          "output_type": "stream",
          "name": "stdout",
          "text": [
            "1\n",
            "2\n",
            "3\n",
            "4\n",
            "5\n",
            "6\n",
            "7\n",
            "8\n",
            "9\n",
            "10\n"
          ]
        }
      ]
    },
    {
      "cell_type": "code",
      "source": [
        "#Q13.  Write a Python program to find the sum of all even numbers between 1 and 50\n",
        "\n",
        "total_sum = sum_of_evens()\n",
        "print(\"The sum of even numbers between 1 and 50 is:\", total_sum)\n"
      ],
      "metadata": {
        "colab": {
          "base_uri": "https://localhost:8080/"
        },
        "id": "bywZoIJwNCrO",
        "outputId": "0597b657-4096-4389-dac9-7634354ed06c"
      },
      "execution_count": 88,
      "outputs": [
        {
          "output_type": "stream",
          "name": "stdout",
          "text": [
            "The sum of even numbers between 1 and 50 is: 650\n"
          ]
        }
      ]
    },
    {
      "cell_type": "code",
      "source": [
        "#Q14. Write a program to reverse a string using a while loop\n",
        "\n",
        "string = input(\"Enter a string: \")\n",
        "\n",
        "reversed_string = \"\"\n",
        "\n",
        "index = len(string) - 1\n",
        "\n",
        "while index >= 0:\n",
        "    reversed_string += string[index]\n",
        "    index -= 1\n",
        "\n",
        "print(\"Reversed String:\", reversed_string)\n",
        "\n"
      ],
      "metadata": {
        "colab": {
          "base_uri": "https://localhost:8080/"
        },
        "id": "THNtQiilNiNr",
        "outputId": "702ca63d-6b5f-425a-a034-6b4d3f3f98f8"
      },
      "execution_count": 91,
      "outputs": [
        {
          "output_type": "stream",
          "name": "stdout",
          "text": [
            "Enter a string: 10\n",
            "Reversed String: 01\n"
          ]
        }
      ]
    },
    {
      "cell_type": "code",
      "source": [
        "#Q15.  Write a Python program to calculate the factorial of a number provided by the user using a while loop.\n",
        "\n",
        "\n",
        "num = input(\"Enter a number: \")\n",
        "\n",
        "if num.isdigit():\n",
        "    factorial = 1\n",
        "    n = int\n",
        "\n",
        "    while n > 0:\n",
        "        factorial *= n\n",
        "        n -= 1\n",
        "\n",
        "    print(f\"Factorial of {num} is: {factorial}\")\n",
        "else:\n",
        "    print(\"Invalid input! Please enter a positive whole number.\")\n"
      ],
      "metadata": {
        "colab": {
          "base_uri": "https://localhost:8080/"
        },
        "id": "fs1lL8o3N7qz",
        "outputId": "3d114253-5943-4502-e788-ffa23ef7ff5f"
      },
      "execution_count": 95,
      "outputs": [
        {
          "output_type": "stream",
          "name": "stdout",
          "text": [
            "Enter a number: 12\n",
            "Factorial of 12 is: 6227020800\n"
          ]
        }
      ]
    },
    {
      "cell_type": "code",
      "source": [],
      "metadata": {
        "id": "bPAPAlxTObIJ"
      },
      "execution_count": null,
      "outputs": []
    }
  ]
}